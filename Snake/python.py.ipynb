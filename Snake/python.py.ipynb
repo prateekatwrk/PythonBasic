{
 "cells": [
  {
   "cell_type": "code",
   "execution_count": null,
   "metadata": {},
   "outputs": [],
   "source": [
    "import random\n",
    "import curses\n",
    "\n",
    "s = curses.initscr()\n",
    "curses.curs_set(0)\n",
    "sh,sw = s.getmaxyx()\n",
    "w= curses.newwin(sh,sw,0,0)\n",
    "w.keypad(1)\n",
    "w.timeout(100)\n",
    "snk_x = sw/4\n",
    "snk_y = sh/2\n",
    "snake = [\n",
    "    [snk_y,snk_x]\n",
    "    [snk_y,snk_x-1]\n",
    "    [snk_y,snk_x-2]\n",
    "]\n",
    "\n",
    "food = [sh/2,sw/2]\n",
    "w.addch(food[0],food[1],curses.ACS_PI)\n",
    "\n",
    "key = curses.KEY_REIGHT\n",
    "\n",
    "while True:\n",
    "        next_key = w.getch()\n",
    "        key = key if next_key == -1 else next_key\n",
    "        \n",
    "        if snake[0][0] in [0,sh] or snake[0][1] in [0,sw] or snake[0] in snake[1:]:\n",
    "            curses.endwin()\n",
    "            quit()\n",
    "            \n",
    "        new_head =[snake[0][0],snake[0][1]]\n",
    "        \n",
    "        if key == curses.kEY_DOWN:\n",
    "            new_head[0] +=1\n",
    "        if key == curses.KEY_UP:\n",
    "            new_head[0] -=1\n",
    "        if key == curses.KEY_LEFT:\n",
    "            new_head[1] -=1\n",
    "        if key == curses.KEY_REIGHT:\n",
    "            new_head[1] +=1\n",
    "        \n",
    "        snake.insert(0,new_head)\n",
    "        \n",
    "        if snake[0] == food:\n",
    "            food = None\n",
    "            while food is None:\n",
    "                nf = [\n",
    "                    random.randint(1,sh-1),\n",
    "                    random.randint(1,sw-1)\n",
    "                ]\n",
    "                \n",
    "                food = nf if nf not in snake else None\n",
    "            w.addch(food[0],food[1],curses.ACS_PI)\n",
    "        else:\n",
    "            tail = snake.pop()\n",
    "            w.addch(tail[0],tail[1],' ')\n",
    "            \n",
    "        w.addch(snake[0][0],snake[0][1],curses.ACS_CKBOARD)"
   ]
  },
  {
   "cell_type": "code",
   "execution_count": null,
   "metadata": {},
   "outputs": [],
   "source": []
  },
  {
   "cell_type": "code",
   "execution_count": null,
   "metadata": {},
   "outputs": [],
   "source": []
  }
 ],
 "metadata": {
  "kernelspec": {
   "display_name": "Python 3",
   "language": "python",
   "name": "python3"
  },
  "language_info": {
   "codemirror_mode": {
    "name": "ipython",
    "version": 3
   },
   "file_extension": ".py",
   "mimetype": "text/x-python",
   "name": "python",
   "nbconvert_exporter": "python",
   "pygments_lexer": "ipython3",
   "version": "3.6.8"
  }
 },
 "nbformat": 4,
 "nbformat_minor": 2
}
